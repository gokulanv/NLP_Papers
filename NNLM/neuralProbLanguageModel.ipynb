{
  "nbformat": 4,
  "nbformat_minor": 0,
  "metadata": {
    "colab": {
      "name": "neuralProbLanguageModel.ipynb",
      "provenance": [],
      "collapsed_sections": [],
      "authorship_tag": "ABX9TyPTXbUjpyw3DBgxf1HE7SRB",
      "include_colab_link": true
    },
    "kernelspec": {
      "name": "python3",
      "display_name": "Python 3"
    }
  },
  "cells": [
    {
      "cell_type": "markdown",
      "metadata": {
        "id": "view-in-github",
        "colab_type": "text"
      },
      "source": [
        "<a href=\"https://colab.research.google.com/github/gokulanv/NLP_Papers/blob/master/NNLM/neuralProbLanguageModel.ipynb\" target=\"_parent\"><img src=\"https://colab.research.google.com/assets/colab-badge.svg\" alt=\"Open In Colab\"/></a>"
      ]
    },
    {
      "cell_type": "code",
      "metadata": {
        "id": "7WRHEDHuwhOg",
        "colab_type": "code",
        "colab": {}
      },
      "source": [
        "# code reference from @graykode\n",
        "import numpy as np\n",
        "import torch\n",
        "import torch.nn as nn\n",
        "import torch.optim as optim\n",
        "from torch.autograd import Variable\n",
        "\n",
        "dtype = torch.FloatTensor\n",
        "\n",
        "sentences = [ \"i studied a book\", \"i read a newspaper\", \"i hate a phone\", \"I love a computer\"]\n",
        "\n",
        "word_list = \" \".join(sentences).split()\n",
        "word_list = list(set(word_list))\n",
        "word_dict = {w: i for i, w in enumerate(word_list)}\n",
        "number_dict = {i: w for i, w in enumerate(word_list)}\n",
        "n_class = len(word_dict) # number of Vocabulary\n",
        "\n",
        "# NNLM Parameter\n",
        "n_step = 3 # n-1 in paper\n",
        "n_hidden = 2 # h in paper\n",
        "m = 2 # m in paper\n"
      ],
      "execution_count": 0,
      "outputs": []
    },
    {
      "cell_type": "code",
      "metadata": {
        "id": "zJ-5Jfkl1CaL",
        "colab_type": "code",
        "colab": {}
      },
      "source": [
        "def make_batch(sentences):\n",
        "    input_batch = []\n",
        "    target_batch = []\n",
        "\n",
        "    for sen in sentences:\n",
        "        word = sen.split()\n",
        "        input = [word_dict[n] for n in word[:-1]]\n",
        "        target = word_dict[word[-1]]\n",
        "\n",
        "        input_batch.append(input)\n",
        "        target_batch.append(target)\n",
        "\n",
        "    return input_batch, target_batch\n",
        "\n",
        "# Model\n",
        "class NNLM(nn.Module):\n",
        "    def __init__(self):\n",
        "        super(NNLM, self).__init__()\n",
        "        self.C = nn.Embedding(n_class, m)\n",
        "        self.H = nn.Parameter(torch.randn(n_step * m, n_hidden).type(dtype))\n",
        "        self.W = nn.Parameter(torch.randn(n_step * m, n_class).type(dtype))\n",
        "        self.d = nn.Parameter(torch.randn(n_hidden).type(dtype))\n",
        "        self.U = nn.Parameter(torch.randn(n_hidden, n_class).type(dtype))\n",
        "        self.b = nn.Parameter(torch.randn(n_class).type(dtype))\n",
        "\n",
        "    def forward(self, X):\n",
        "      X = self.C(X)\n",
        "      X = X.view(-1, n_step * m)\n",
        "      hidden_layer_activation = torch.tanh(self.d + torch.mm(X, self.H))\n",
        "      output = self.b + torch.mm(X, self.W) + torch.mm(hidden_layer_activation, self.U)\n",
        "      return output"
      ],
      "execution_count": 0,
      "outputs": []
    },
    {
      "cell_type": "code",
      "metadata": {
        "id": "bU3PRsN61FTk",
        "colab_type": "code",
        "outputId": "1f317ba9-75fa-4d83-ef33-152e5c764b29",
        "colab": {
          "base_uri": "https://localhost:8080/",
          "height": 235
        }
      },
      "source": [
        "\n",
        "model = NNLM()\n",
        "\n",
        "criterion = nn.CrossEntropyLoss()\n",
        "optimizer = optim.Adam(model.parameters(), lr=0.001)\n",
        "\n",
        "input_batch, target_batch = make_batch(sentences)\n",
        "input_batch = Variable(torch.LongTensor(input_batch))\n",
        "target_batch = Variable(torch.LongTensor(target_batch))\n",
        "\n",
        "print(\"Training....\")\n",
        "# Training\n",
        "for epoch in range(10000):\n",
        "    optimizer.zero_grad()\n",
        "    output = model(input_batch)\n",
        "\n",
        "    # output : [batch_size, n_class], target_batch : [batch_size] (LongTensor, not one-hot)\n",
        "    loss = criterion(output, target_batch)\n",
        "    if (epoch + 1)%1000 == 0:\n",
        "        print('Epoch:', '%04d' % (epoch + 1), 'cost =', '{:.6f}'.format(loss))\n",
        "\n",
        "    loss.backward()\n",
        "    optimizer.step()\n",
        "\n",
        "# Predict\n",
        "predict = model(input_batch).data.max(1, keepdim=True)[1]\n",
        "\n",
        "print(\"Evaluating...\")\n",
        "# Test\n",
        "print([sen.split()[:2] for sen in sentences], '->', [number_dict[n.item()] for n in predict.squeeze()])\n"
      ],
      "execution_count": 15,
      "outputs": [
        {
          "output_type": "stream",
          "text": [
            "Training....\n",
            "Epoch: 1000 cost = 0.140552\n",
            "Epoch: 2000 cost = 0.027548\n",
            "Epoch: 3000 cost = 0.009706\n",
            "Epoch: 4000 cost = 0.004267\n",
            "Epoch: 5000 cost = 0.002090\n",
            "Epoch: 6000 cost = 0.001085\n",
            "Epoch: 7000 cost = 0.000583\n",
            "Epoch: 8000 cost = 0.000320\n",
            "Epoch: 9000 cost = 0.000179\n",
            "Epoch: 10000 cost = 0.000101\n",
            "Evaluating...\n",
            "[['i', 'studied'], ['i', 'read'], ['i', 'hate'], ['I', 'love']] -> ['book', 'newspaper', 'phone', 'computer']\n"
          ],
          "name": "stdout"
        }
      ]
    },
    {
      "cell_type": "markdown",
      "metadata": {
        "id": "e4Dtm5q3ggEd",
        "colab_type": "text"
      },
      "source": [
        "## RELU Comparison"
      ]
    },
    {
      "cell_type": "code",
      "metadata": {
        "id": "9OwZmcYUfRzp",
        "colab_type": "code",
        "colab": {}
      },
      "source": [
        "# Model\n",
        "class NNLMRelu(nn.Module):\n",
        "    def __init__(self):\n",
        "        super(NNLMRelu, self).__init__()\n",
        "        self.C = nn.Embedding(n_class, m)\n",
        "        self.H = nn.Parameter(torch.randn(n_step * m, n_hidden).type(dtype))\n",
        "        self.W = nn.Parameter(torch.randn(n_step * m, n_class).type(dtype))\n",
        "        self.d = nn.Parameter(torch.randn(n_hidden).type(dtype))\n",
        "        self.U = nn.Parameter(torch.randn(n_hidden, n_class).type(dtype))\n",
        "        self.b = nn.Parameter(torch.randn(n_class).type(dtype))\n",
        "\n",
        "    def forward(self, X):\n",
        "      X = self.C(X)\n",
        "      X = X.view(-1, n_step * m)\n",
        "      hidden_layer_activation = torch.relu(self.d + torch.mm(X, self.H))\n",
        "      output = self.b + torch.mm(X, self.W) + torch.mm(hidden_layer_activation, self.U)\n",
        "      return output"
      ],
      "execution_count": 0,
      "outputs": []
    },
    {
      "cell_type": "code",
      "metadata": {
        "id": "YJyPwReFgsE2",
        "colab_type": "code",
        "colab": {
          "base_uri": "https://localhost:8080/",
          "height": 235
        },
        "outputId": "00500a5e-5a58-4c3e-fb04-5fc7ea143472"
      },
      "source": [
        "\n",
        "model = NNLMRelu()\n",
        "\n",
        "criterion = nn.CrossEntropyLoss()\n",
        "optimizer = optim.Adam(model.parameters(), lr=0.001)\n",
        "\n",
        "input_batch, target_batch = make_batch(sentences)\n",
        "input_batch = Variable(torch.LongTensor(input_batch))\n",
        "target_batch = Variable(torch.LongTensor(target_batch))\n",
        "\n",
        "print(\"Training....\")\n",
        "# Training\n",
        "for epoch in range(10000):\n",
        "    optimizer.zero_grad()\n",
        "    output = model(input_batch)\n",
        "\n",
        "    # output : [batch_size, n_class], target_batch : [batch_size] (LongTensor, not one-hot)\n",
        "    loss = criterion(output, target_batch)\n",
        "    if (epoch + 1)%1000 == 0:\n",
        "        print('Epoch:', '%04d' % (epoch + 1), 'cost =', '{:.6f}'.format(loss))\n",
        "\n",
        "    loss.backward()\n",
        "    optimizer.step()\n",
        "\n",
        "# Predict\n",
        "predict = model(input_batch).data.max(1, keepdim=True)[1]\n",
        "\n",
        "print(\"Evaluating...\")\n",
        "# Test\n",
        "print([sen.split()[:2] for sen in sentences], '->', [number_dict[n.item()] for n in predict.squeeze()])\n"
      ],
      "execution_count": 17,
      "outputs": [
        {
          "output_type": "stream",
          "text": [
            "Training....\n",
            "Epoch: 1000 cost = 0.197540\n",
            "Epoch: 2000 cost = 0.031416\n",
            "Epoch: 3000 cost = 0.010084\n",
            "Epoch: 4000 cost = 0.004223\n",
            "Epoch: 5000 cost = 0.001997\n",
            "Epoch: 6000 cost = 0.001008\n",
            "Epoch: 7000 cost = 0.000543\n",
            "Epoch: 8000 cost = 0.000300\n",
            "Epoch: 9000 cost = 0.000168\n",
            "Epoch: 10000 cost = 0.000094\n",
            "Evaluating...\n",
            "[['i', 'studied'], ['i', 'read'], ['i', 'hate'], ['I', 'love']] -> ['book', 'newspaper', 'phone', 'computer']\n"
          ],
          "name": "stdout"
        }
      ]
    },
    {
      "cell_type": "code",
      "metadata": {
        "id": "ao5lMcr8gyJe",
        "colab_type": "code",
        "colab": {}
      },
      "source": [
        ""
      ],
      "execution_count": 0,
      "outputs": []
    }
  ]
}